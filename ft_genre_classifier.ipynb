{
  "nbformat": 4,
  "nbformat_minor": 0,
  "metadata": {
    "colab": {
      "name": "ft_genre_classifier.ipynb",
      "provenance": [],
      "collapsed_sections": [],
      "authorship_tag": "ABX9TyPmZt+3fZKhc6bGZQblcHXB",
      "include_colab_link": true
    },
    "kernelspec": {
      "display_name": "Python 3",
      "name": "python3"
    },
    "language_info": {
      "name": "python"
    }
  },
  "cells": [
    {
      "cell_type": "markdown",
      "metadata": {
        "id": "view-in-github",
        "colab_type": "text"
      },
      "source": [
        "<a href=\"https://colab.research.google.com/github/gabopotestades/genre_classifier/blob/main/ft_genre_classifier.ipynb\" target=\"_parent\"><img src=\"https://colab.research.google.com/assets/colab-badge.svg\" alt=\"Open In Colab\"/></a>"
      ]
    },
    {
      "cell_type": "code",
      "metadata": {
        "id": "GrItX7kR3Hhm"
      },
      "source": [
        "[1]\thttps://www.oxfordmusiconline.com/view/10.1093/gmo/9781561592630.001.0001/omo-9781561592630-e-0000040599;jsessionid=3A6113DCE6DCDD3D2F2CB044D5A01A9C\n",
        "\n",
        "[2] https://web.stanford.edu/class/archive/cs/cs224n/cs224n.1174/reports/2728368.pdf\n",
        "\n",
        "[3] https://genius.com/Genius-tags-music-genres-international-annotated\n",
        "\n",
        "[4] https://arxiv.org/pdf/1607.01759.pdf\n",
        "\n",
        "[5] https://medium.com/@mariamestre/fasttext-stepping-through-the-code-259996d6ebc4\n",
        "\n",
        "[6] https://austingwalters.com/fasttext-for-sentence-classification/\n"
      ],
      "execution_count": null,
      "outputs": []
    },
    {
      "cell_type": "code",
      "metadata": {
        "id": "qnKquTomyko1"
      },
      "source": [
        "from google.colab import drive\n",
        "drive.mount('/content/drive', force_remount=True)\n",
        "directory = '/content/drive/MyDrive/11-Natural Language Processing/MP'"
      ],
      "execution_count": null,
      "outputs": []
    },
    {
      "cell_type": "code",
      "metadata": {
        "id": "dk1YlBkAFhtH"
      },
      "source": [
        "# Install needed packages\n",
        "!pip install git+https://github.com/johnwmillr/LyricsGenius.git\n",
        "!pip install fasttext"
      ],
      "execution_count": null,
      "outputs": []
    },
    {
      "cell_type": "code",
      "metadata": {
        "id": "ksKW5-tkFndn"
      },
      "source": [
        "# Import installed packages\n",
        "import re\n",
        "import os\n",
        "import nltk\n",
        "import requests\n",
        "import fasttext\n",
        "nltk.download('wordnet')\n",
        "import lyricsgenius as lg\n",
        "from pathlib import Path\n",
        "from bs4 import BeautifulSoup\n",
        "from collections import Counter\n",
        "from IPython.display import clear_output\n",
        "\n",
        "from nltk.stem import WordNetLemmatizer\n",
        "fasttext.FastText.eprint = lambda x: None\n",
        "from sklearn.model_selection import train_test_split\n",
        "from sklearn.metrics import precision_recall_fscore_support as score\n",
        "from sklearn.metrics import accuracy_score\n",
        "from sklearn.metrics import confusion_matrix, ConfusionMatrixDisplay"
      ],
      "execution_count": null,
      "outputs": []
    },
    {
      "cell_type": "code",
      "metadata": {
        "id": "0snOnv8IFpKd"
      },
      "source": [
        "# Access the API using a private token\n",
        "genius = lg.Genius('Genius token here')\n",
        "\n",
        "# Save lyrics per genre to produce the dataset\n",
        "genres = ['alternative-rock', 'art-rock', 'art-pop', 'dance-pop', 'death-metal', 'edm', 'emo', 'folk', 'grunge', 'funk', 'rock', 'gothic-rock', 'heavy-metal', 'hip-hop', 'industrial', 'indie-pop', 'indie-rock', 'psychedelic', 'punk-rock', \n",
        "'soul', 'glitch', 'jazz', 'krautrock', 'lo-fi', 'metalcore', 'neofolk', 'neo-psychedelia', 'new-wave', 'post-punk', 'pop-country', 'house', 'math-rock',\n",
        "'no-wave', 'noise', 'pop-punk', 'pop-rock', 'reggae', 'shoegaze', 'synth-pop', 'vaporwave', 'pop', 'r-b', 'country', 'rap']\n",
        "\n",
        "# Load the model \n",
        "genres_model = fasttext.load_model(f'{directory}/multi_label_models/multi_label_model_epoch_lr_ngrams_hsmax.bin')"
      ],
      "execution_count": null,
      "outputs": []
    },
    {
      "cell_type": "code",
      "metadata": {
        "id": "95F-1huRWsmR"
      },
      "source": [
        "def format_text(text_to_format):\n",
        "\n",
        "    stemmer = WordNetLemmatizer()\n",
        "    \n",
        "    song_lyrics = re.sub('\\[[:a-zA-Z0-9 ]+\\]', '', text_to_format)\n",
        "    song_lyrics = re.sub('EmbedShare URLCopyEmbedCopy', '', song_lyrics)\n",
        "    song_lyrics = re.sub('[^a-zA-Z ]', ' ', song_lyrics)\n",
        "    song_lyrics = ' '.join( [w for w in song_lyrics.split() if len(w)>1] )\n",
        "    song_lyrics = song_lyrics.replace(r'\\r', ' ')\n",
        "    song_lyrics = song_lyrics.replace(r'\\t', ' ')\n",
        "    song_lyrics = song_lyrics.replace(r'\\n', ' ')\n",
        "    song_lyrics = re.sub('\\\\s+', ' ', song_lyrics)\n",
        "    song_lyrics = song_lyrics.lower()\n",
        "    \n",
        "    # Lemmatize each word to get root words\n",
        "    song_lyrics = song_lyrics.split()\n",
        "    song_lyrics = [stemmer.lemmatize(word) for word in song_lyrics]\n",
        "    song_lyrics = ' '.join(song_lyrics)\n",
        "\n",
        "    return song_lyrics"
      ],
      "execution_count": null,
      "outputs": []
    },
    {
      "cell_type": "code",
      "metadata": {
        "id": "qrp4_PG9tEwF"
      },
      "source": [
        "def get_labels(song_url):\n",
        "\n",
        "  page = requests.get(song_url).text\n",
        "  data = re.search(r',\\\\\\\"tags\\\\\":\\[\\{([^\\]])*\\],', page).group(0)\n",
        "  data = re.findall(r'\\\\\\\"name\\\\\":\\\\\"([-&a-zA-z]*)\\\\\"', data)\n",
        "\n",
        "  labels_list = []\n",
        "  \n",
        "  for label in data:\n",
        "    genre_label = label.strip().lower()\n",
        "    genre_label = genre_label.replace(\" \", \"-\")\n",
        "    \n",
        "    genre_label = f'__label__{genre_label}'\n",
        "    labels_list.append(genre_label)\n",
        "\n",
        "  return (\" \").join(labels_list)"
      ],
      "execution_count": null,
      "outputs": []
    },
    {
      "cell_type": "code",
      "metadata": {
        "id": "x-mxKscFlfc0"
      },
      "source": [
        "def get_song_genres(song_name, artist = \"\"):\n",
        "  \n",
        "  song = genius.search_song(song_name, artist)\n",
        "\n",
        "  if song:\n",
        "\n",
        "    lyrics = format_text(song.lyrics)\n",
        "    result = genres_model.predict(lyrics, k=4)\n",
        "    clear_output()\n",
        "\n",
        "    print(f'\\nSong Title: {song.title}')\n",
        "    print(f'Song Artist: {song.artist}')\n",
        "\n",
        "    print('\\nModel genres:\\n')\n",
        "    for x in range(len(result[0])):\n",
        "      genre = result[0][x].replace('__label__', '').capitalize()\n",
        "      print(f'{genre}: {result[1][x]}')\n",
        "\n",
        "    print('\\n\\nActual genres:\\n')\n",
        "    page = requests.get(song.url).text\n",
        "    # data = re.search(r',\\\\\\\"tags\\\\\":\\[\\{([^\\]])*\\],', page).group(0)\n",
        "    # data = re.findall(r'\\\\\\\"name\\\\\":\\\\\"([-&a-zA-z]*)\\\\\"', data)\n",
        "    data = re.findall(r'false,&quot;url&quot;:&quot;https://genius.com/tags/([^&]+)', page)\n",
        "\n",
        "    for label in data:\n",
        "      genre_label = label.replace(\" \", \"-\").capitalize()\n",
        "      print(genre_label)\n",
        "\n",
        "    print('\\n' + ('=' * 100) + '\\n')\n",
        "\n",
        "  else:\n",
        "    print('No song found in Genius database')"
      ],
      "execution_count": null,
      "outputs": []
    },
    {
      "cell_type": "code",
      "metadata": {
        "id": "hS6T-NhqF4eR"
      },
      "source": [
        "# Access the API using a private token\n",
        "genius = lg.Genius('Lc04bYyX-frIVFjz37NZokFsR71t6xL-CgZvOvkT3NgutLWnsNmHuAnxhqSduTPf')\n",
        "\n",
        "# Save lyrics per genre to produce the dataset\n",
        "genres = ['alternative-rock', 'art-rock', 'art-pop', 'dance-pop', 'death-metal', 'edm', 'emo', 'folk', 'grunge', 'funk', 'rock', 'gothic-rock', 'heavy-metal', 'hip-hop', 'industrial', 'indie-pop', 'indie-rock', 'psychedelic', 'punk-rock', \n",
        "'soul', 'glitch', 'jazz', 'krautrock', 'lo-fi', 'metalcore', 'neofolk', 'neo-psychedelia', 'new-wave', 'post-punk', 'pop-country', 'house', 'math-rock',\n",
        "'no-wave', 'noise', 'pop-punk', 'pop-rock', 'reggae', 'shoegaze', 'synth-pop', 'vaporwave', 'pop', 'r-b', 'country', 'rap']\n",
        "\n",
        "# Loop through all genres\n",
        "for genre in genres:\n",
        "\n",
        "  Path(f\"{directory}/genres/{genre}\").mkdir(parents=True, exist_ok=True)\n",
        "\n",
        "  page = 1\n",
        "\n",
        "  while page:\n",
        "\n",
        "    result = genius.tag(genre, page=page)\n",
        "\n",
        "    if not result:\n",
        "      page = None\n",
        "      pass\n",
        "\n",
        "    for hit in result['hits']:\n",
        "\n",
        "      try:\n",
        "\n",
        "        # Format lyrics\n",
        "        song_lyrics = genius.lyrics(song_url=hit['url'])\n",
        "        song_lyrics = format_text(song_lyrics)\n",
        "      \n",
        "        labels = get_labels(hit['url'])\n",
        "        if labels:\n",
        "          song_lyrics = labels + \" \" + song_lyrics\n",
        "        else:\n",
        "          song_lyrics = f'__label__{genre} ' + song_lyrics\n",
        "\n",
        "        # Format the filename\n",
        "        file_title = re.sub('[^a-zA-Z0-9 \\n\\.]', '', hit['title_with_artists'])\n",
        "        file_name = f'{directory}/genres/{genre}/{file_title}.txt'\n",
        "\n",
        "        # Save the lyrics to a text file\n",
        "        open(file_name, 'w+').close()\n",
        "        file = open(file_name, 'w+')\n",
        "        file.write(song_lyrics)\n",
        "        file.close()\n",
        "\n",
        "      except Exception as e: \n",
        "        # print(e)\n",
        "        # raise Exception\n",
        "        pass\n",
        "\n",
        "    page = result['next_page']\n",
        "\n"
      ],
      "execution_count": null,
      "outputs": []
    },
    {
      "cell_type": "code",
      "metadata": {
        "id": "-YH2BwOxF5DU"
      },
      "source": [
        "# Create a list of all the lyrics that were retrieved\n",
        "all_lyrics_data = []\n",
        "\n",
        "for genre in genres:\n",
        "\n",
        "  print(genre)\n",
        "  for filename in os.listdir(f'{directory}/genres/{genre}'):\n",
        "\n",
        "    text_file_name = f'{directory}/genres/{genre}/{filename}'\n",
        "    text_file = open(text_file_name, 'r')\n",
        "    song_lyrics = text_file.read()\n",
        "    text_file.close()\n",
        "\n",
        "    all_lyrics_data.append(song_lyrics)"
      ],
      "execution_count": null,
      "outputs": []
    },
    {
      "cell_type": "code",
      "metadata": {
        "id": "dVpRrWNWMMwY"
      },
      "source": [
        "# Split the list into a training (70%) and test (30%)\n",
        "\n",
        "data = train_test_split(all_lyrics_data, test_size=0.3, shuffle=True)\n",
        "train_data = data[0]\n",
        "test_data = data[1]"
      ],
      "execution_count": null,
      "outputs": []
    },
    {
      "cell_type": "code",
      "metadata": {
        "id": "-QDglTMZNAdP"
      },
      "source": [
        "# Save training and test data to text files\n",
        "train_file_name = f'{directory}/train.txt'\n",
        "open(train_file_name, 'w+').close()\n",
        "train_file = open(train_file_name, 'w+')\n",
        "train_data_to_text = '\\n'.join(train_data)\n",
        "train_file.write(train_data_to_text)\n",
        "train_file.close()\n",
        "\n",
        "test_file_name = f'{directory}/test.txt'\n",
        "open(test_file_name, 'w+').close()\n",
        "test_file = open(test_file_name, 'w+')\n",
        "test_data_to_text = '\\n'.join(test_data)\n",
        "test_file.write(test_data_to_text)\n",
        "test_file.close()"
      ],
      "execution_count": null,
      "outputs": []
    },
    {
      "cell_type": "code",
      "metadata": {
        "id": "5XFNFrwswiQ6"
      },
      "source": [
        "# Get the genre frequency count for single and multiple\n",
        "\n",
        "train_file_name = f'{directory}/train_multi_label.txt'\n",
        "text_file = open(train_file_name, 'r')\n",
        "song_lyrics = text_file.read()\n",
        "song_lyrics = song_lyrics.splitlines()\n",
        "genres_list = []\n",
        "\n",
        "for song in song_lyrics:\n",
        "  matches = re.findall('__label__([-&a-zA-Z0-9]+)', song)\n",
        "  for match in matches:\n",
        "    genres_list.append(match)\n",
        "\n",
        "genres_dict = dict(Counter(genres_list))\n",
        "ordered_dict = {k: v for k, v in sorted(genres_dict.items(), key=lambda item: item[1])}\n",
        "total = 0\n",
        "total_genres = 0\n",
        "for genre in ordered_dict:\n",
        "  print(f'{genre}: {ordered_dict[genre]}')\n",
        "  total += ordered_dict[genre]\n",
        "  total_genres += 1\n",
        "\n",
        "print(total)\n",
        "print(total_genres)"
      ],
      "execution_count": null,
      "outputs": []
    },
    {
      "cell_type": "code",
      "metadata": {
        "colab": {
          "base_uri": "https://localhost:8080/"
        },
        "id": "mtMtm8DZlGji",
        "outputId": "0a6bee01-d44b-44e5-fcbc-c94eaf414927"
      },
      "source": [
        "# Single label, with epoch, learning rate and n-grams\n",
        "\n",
        "# train_file_name = f'{directory}/train_single_label.txt'\n",
        "# model = fasttext.train_supervised(input=train_file_name, epoch=40, lr=0.1, wordNgrams=1)\n",
        "# model.save_model(f'{directory}/single_label_models/single_label_model_epoch_lr_ngrams.bin')\n",
        "\n",
        "test_file_name = f'{directory}/test_single_label.txt'\n",
        "test_model = fasttext.load_model(f'{directory}/single_label_models/single_label_model_epoch_lr_ngrams.bin')\n",
        "prediction = test_model.test(test_file_name)\n",
        "\n",
        "precision = prediction[1]\n",
        "recall = prediction[2]\n",
        "f1_score = (2 * ( (precision * recall) / (precision + recall) ))\n",
        "\n",
        "print(f'Precision: {precision}')\n",
        "print(f'Recall: {recall}')\n",
        "print(f'F1 Score: {f1_score}' )"
      ],
      "execution_count": null,
      "outputs": [
        {
          "output_type": "stream",
          "name": "stdout",
          "text": [
            "Precision: 0.17740409879138203\n",
            "Recall: 0.17740409879138203\n",
            "F1 Score: 0.17740409879138203\n"
          ]
        }
      ]
    },
    {
      "cell_type": "code",
      "metadata": {
        "colab": {
          "base_uri": "https://localhost:8080/"
        },
        "id": "kaR-IVhyVyTL",
        "outputId": "77ad0a6f-64d9-41bb-e902-18537ea28941"
      },
      "source": [
        "# Multiple labels, with epoch, learning rate, ngrams and hsmax\n",
        "\n",
        "train_file_name = f'{directory}/train_multi_label.txt'\n",
        "model = fasttext.train_supervised(input=train_file_name, loss='ova', epoch=50, lr=0.2, wordNgrams=3, bucket=200000, dim=50)\n",
        "model.save_model(f'{directory}/multi_label_models/multi_label_model_epoch_lr_ngrams_hsmax.bin')\n",
        "\n",
        "test_file_name = f'{directory}/test_multi_label.txt'\n",
        "test_model = fasttext.load_model(f'{directory}/multi_label_models/multi_label_model_epoch_lr_ngrams_hsmax.bin')\n",
        "prediction = test_model.test(test_file_name, k=4)\n",
        "\n",
        "precision = prediction[1]\n",
        "recall = prediction[2]\n",
        "f1_score = (2 * ( (precision * recall) / (precision + recall) ))\n",
        "\n",
        "print(f'Precision: {precision}')\n",
        "print(f'Recall: {recall}')\n",
        "print(f'F1 Score: {f1_score}' )"
      ],
      "execution_count": null,
      "outputs": [
        {
          "output_type": "stream",
          "name": "stdout",
          "text": [
            "Precision: 0.5487907465825447\n",
            "Recall: 0.5456636520466308\n",
            "F1 Score: 0.5472227319195785\n"
          ]
        }
      ]
    },
    {
      "cell_type": "code",
      "metadata": {
        "id": "7AR8WMQumGDh"
      },
      "source": [
        "# Train single label different epochs and wordNgrams\n",
        "\n",
        "current_epoch_single = 10\n",
        "\n",
        "train_file_name = f'{directory}/train_single_label.txt'\n",
        "test_file_name = f'{directory}/test_single_label.txt'\n",
        "\n",
        "results_per_run_single = []\n",
        "\n",
        "learning_rate_single = 0.1\n",
        "\n",
        "while current_epoch_single <= 50:\n",
        "\n",
        "  current_ngrams_single = 1\n",
        "\n",
        "  while current_ngrams_single <= 5:\n",
        "\n",
        "    model = fasttext.train_supervised(input=train_file_name, epoch=current_epoch_single, lr=learning_rate_single, wordNgrams=current_ngrams_single)\n",
        "    model.save_model(f'{directory}/single_label_models/single_label_model_epoch_lr_ngrams_test.bin')\n",
        "    test_model = fasttext.load_model(f'{directory}/single_label_models/single_label_model_epoch_lr_ngrams_test.bin')\n",
        "    test_results_single =  test_model.test(test_file_name)\n",
        "    results_per_run_single.append([learning_rate_single, current_epoch_single, current_ngrams_single, test_results_single[1], test_results_single[2]])\n",
        "\n",
        "    current_ngrams_single += 1\n",
        "\n",
        "  current_epoch_single += 10\n",
        "\n",
        "for res in results_per_run_single:\n",
        "  print(res)"
      ],
      "execution_count": null,
      "outputs": []
    },
    {
      "cell_type": "code",
      "metadata": {
        "id": "rZ4vFhMFTJVm"
      },
      "source": [
        "# Train multi label different epochs and wordNgrams\n",
        "\n",
        "current_epoch = 10\n",
        "\n",
        "train_file_name = f'{directory}/train_multi_label.txt'\n",
        "test_file_name = f'{directory}/test_multi_label.txt'\n",
        "\n",
        "results_per_run = []\n",
        "learning_rate_multi = 0.1\n",
        "\n",
        "while current_epoch <= 50:\n",
        "\n",
        "  current_ngrams = 1\n",
        "\n",
        "  while current_ngrams <= 5:\n",
        "\n",
        "    model = fasttext.train_supervised(input=train_file_name, loss='ova', epoch=current_epoch, lr=learning_rate_multi, wordNgrams=current_ngrams, bucket=200000, dim=50)\n",
        "    model.save_model(f'{directory}/multi_label_models/multi_label_model_epoch_lr_ngrams_hsmax_test.bin')\n",
        "    test_model = fasttext.load_model(f'{directory}/multi_label_models/multi_label_model_epoch_lr_ngrams_hsmax_test.bin')\n",
        "    test_results =  test_model.test(test_file_name, k=4)\n",
        "    results_per_run.append([learning_rate_multi, current_epoch, current_ngrams, test_results[1], test_results[2]])\n",
        "\n",
        "    current_ngrams += 1\n",
        "\n",
        "  current_epoch += 10\n",
        "\n",
        "for res in results_per_run:\n",
        "  print(res)\n"
      ],
      "execution_count": null,
      "outputs": []
    },
    {
      "cell_type": "code",
      "metadata": {
        "colab": {
          "base_uri": "https://localhost:8080/"
        },
        "id": "nyIhih45P8KJ",
        "outputId": "9302490c-13f6-4ff2-f333-532c32d72516"
      },
      "source": [
        "# Getting the average labels in a song lyrics\n",
        "\n",
        "train_file_name = f'{directory}/test_multi_label.txt'\n",
        "text_file = open(train_file_name, 'r')\n",
        "song_lyrics = text_file.read()\n",
        "song_lyrics = song_lyrics.splitlines()\n",
        "\n",
        "total_labels = 0\n",
        "total_songs = 0\n",
        "\n",
        "for song in song_lyrics:\n",
        "\n",
        "  matches = re.findall('__label__([-&a-zA-Z0-9]+) ', song)\n",
        "  \n",
        "  total_labels += len(matches)\n",
        "  total_songs += 1\n",
        "\n",
        "print(total_labels / total_songs)"
      ],
      "execution_count": null,
      "outputs": [
        {
          "output_type": "stream",
          "name": "stdout",
          "text": [
            "4.025026288117771\n"
          ]
        }
      ]
    },
    {
      "cell_type": "code",
      "metadata": {
        "id": "U2iZbThdjrMb"
      },
      "source": [
        "# Create confusion matrix for single labelled\n",
        "model = fasttext.load_model(f'{directory}/single_label_models/single_label_model_epoch_lr_ngrams.bin')\n",
        "\n",
        "train_file_name = f'{directory}/test_single_label.txt'\n",
        "text_file = open(train_file_name, 'r')\n",
        "song_lyrics = text_file.read()\n",
        "song_lyrics = song_lyrics.splitlines()\n",
        "\n",
        "y_true = []\n",
        "y_preds = []\n",
        "display = ['indie-rock','art-pop', 'punk-rock', 'pop-punk', 'synth-pop']\n",
        "\n",
        "for song in song_lyrics:\n",
        "\n",
        "  matches = re.findall('__label__([-&a-zA-Z0-9]+)', song)\n",
        "  \n",
        "  song_formatted = re.sub(r'__label__([-&a-zA-Z0-9]+)', '', song)\n",
        "  song_formatted = re.sub('\\\\s+', ' ', song_formatted)\n",
        "\n",
        "  predicted_genres = model.predict(song_formatted, k=1)\n",
        "\n",
        "  if matches and \\\n",
        "     matches[0] in display and \\\n",
        "     predicted_genres[0][0].replace('__label__', '') in display:\n",
        "\n",
        "    y_true.append(matches[0])\n",
        "    y_preds.append(predicted_genres[0][0].replace('__label__', ''))\n",
        "\n",
        "cm = confusion_matrix(y_true, y_preds, normalize='all')\n",
        "cmd = ConfusionMatrixDisplay(cm, display_labels=display)\n",
        "cmd.plot()"
      ],
      "execution_count": null,
      "outputs": []
    },
    {
      "cell_type": "code",
      "metadata": {
        "colab": {
          "base_uri": "https://localhost:8080/",
          "height": 298
        },
        "id": "A-k5nzp6mtoc",
        "outputId": "66a7ec1b-1096-4760-d02d-b13f862c16ed"
      },
      "source": [
        "# Create confusion matrix for single label\n",
        "model = fasttext.load_model(f'{directory}/single_label_models/single_label_model_epoch_lr_ngrams.bin')\n",
        "\n",
        "train_file_name = f'{directory}/test_single_label.txt'\n",
        "text_file = open(train_file_name, 'r')\n",
        "song_lyrics = text_file.read()\n",
        "song_lyrics = song_lyrics.splitlines()\n",
        "\n",
        "y_true = []\n",
        "y_preds = []\n",
        "display = ['indie-rock','art-pop', 'punk-rock', 'pop-punk', 'synth-pop']\n",
        "\n",
        "for song in song_lyrics:\n",
        "\n",
        "  matches = re.findall('__label__([-&a-zA-Z0-9]+)', song)\n",
        "  \n",
        "  song_formatted = re.sub(r'__label__([-&a-zA-Z0-9]+)', '', song)\n",
        "  song_formatted = re.sub('\\\\s+', ' ', song_formatted)\n",
        "\n",
        "  predicted_genres = model.predict(song_formatted, k=1)\n",
        "\n",
        "  if matches and \\\n",
        "     matches[0] in display and \\\n",
        "     predicted_genres[0][0].replace('__label__', '') in display:\n",
        "\n",
        "    y_true.append(matches[0])\n",
        "    y_preds.append(predicted_genres[0][0].replace('__label__', ''))\n",
        "\n",
        "cm = confusion_matrix(y_true, y_preds, normalize=\"all\")\n",
        "cmd = ConfusionMatrixDisplay(cm, display_labels=display)\n",
        "cmd.plot()\n",
        "cmd.ax_.set(xlabel='Predicted', ylabel='True')"
      ],
      "execution_count": null,
      "outputs": [
        {
          "output_type": "execute_result",
          "data": {
            "text/plain": [
              "[Text(0, 0.5, 'True'), Text(0.5, 0, 'Predicted')]"
            ]
          },
          "metadata": {},
          "execution_count": 51
        },
        {
          "output_type": "display_data",
          "data": {
            "image/png": "[encoded data removed]",
            "text/plain": [
              "<Figure size 432x288 with 2 Axes>"
            ]
          },
          "metadata": {
            "needs_background": "light"
          }
        }
      ]
    },
    {
      "cell_type": "code",
      "metadata": {
        "colab": {
          "base_uri": "https://localhost:8080/",
          "height": 297
        },
        "id": "o2iCGZn5qtyH",
        "outputId": "19dd1848-4f5e-4e87-868b-c3dceda38d69"
      },
      "source": [
        "# Create confusion matrix for multiple labels\n",
        "model = fasttext.load_model(f'{directory}/multi_label_models/multi_label_model_epoch_lr_ngrams_hsmax.bin')\n",
        "\n",
        "train_file_name = f'{directory}/test_multi_label.txt'\n",
        "text_file = open(train_file_name, 'r')\n",
        "song_lyrics = text_file.read()\n",
        "song_lyrics = song_lyrics.splitlines()\n",
        "\n",
        "y_true = []\n",
        "y_preds = []\n",
        "labels = ['rock', 'pop', 'rap', 'alternative', 'r&b']\n",
        "\n",
        "i = 10\n",
        "\n",
        "for song in song_lyrics:\n",
        "\n",
        "  matches = re.findall('__label__([-&a-zA-Z0-9]+)', song)\n",
        "  \n",
        "  song_formatted = re.sub(r'__label__([-&a-zA-Z0-9]+)', '', song)\n",
        "  song_formatted = re.sub('\\\\s+', ' ', song_formatted)\n",
        "\n",
        "  predicted_genres = model.predict(song_formatted, k=len(matches))\n",
        "  predicted_genres = [x.replace('__label__', '') for x in predicted_genres[0]]\n",
        "\n",
        "  if matches:\n",
        "\n",
        "    y_true_filtered = [x for x in matches if x in labels]\n",
        "    y_preds_filtered = [x for x in predicted_genres if x in labels]\n",
        "\n",
        "    intersecting_genres = list(set(y_true_filtered).intersection(y_preds_filtered))\n",
        "\n",
        "    for genre in intersecting_genres:\n",
        "      y_true.append(genre)\n",
        "      y_preds.append(genre)\n",
        "\n",
        "      y_true_filtered.remove(genre)\n",
        "      y_preds_filtered.remove(genre)\n",
        "\n",
        "    if len(y_true_filtered) > len(y_preds_filtered):\n",
        "\n",
        "      elements_to_remove = len(y_true_filtered) - len(y_preds_filtered)\n",
        "      y_true_filtered = y_true_filtered[:len(y_true_filtered)-elements_to_remove]\n",
        "      \n",
        "    elif len(y_preds_filtered) > len(y_true_filtered):\n",
        "\n",
        "      elements_to_remove = len(y_preds_filtered) - len(y_true_filtered)\n",
        "      y_preds_filtered = y_preds_filtered[:len(y_preds_filtered)-elements_to_remove]\n",
        "\n",
        "    y_true_filtered.sort()\n",
        "    y_preds_filtered.sort()\n",
        "\n",
        "    for item in y_true_filtered:\n",
        "      y_true.append(item)\n",
        "    \n",
        "    for item in y_preds_filtered:\n",
        "      y_preds.append(item)\n",
        "\n",
        "\n",
        "cm = confusion_matrix(y_true, y_preds, normalize=\"all\")\n",
        "cmd = ConfusionMatrixDisplay(cm, display_labels=labels)\n",
        "cmd.plot()\n",
        "cmd.ax_.set(xlabel='Predicted', ylabel='True')"
      ],
      "execution_count": null,
      "outputs": [
        {
          "output_type": "execute_result",
          "data": {
            "text/plain": [
              "[Text(0, 0.5, 'True'), Text(0.5, 0, 'Predicted')]"
            ]
          },
          "metadata": {},
          "execution_count": 50
        },
        {
          "output_type": "display_data",
          "data": {
            "image/png": "[encoded data removed]",
            "text/plain": [
              "<Figure size 432x288 with 2 Axes>"
            ]
          },
          "metadata": {
            "needs_background": "light"
          }
        }
      ]
    },
    {
      "cell_type": "code",
      "metadata": {
        "id": "PN_7TWOBpFjq"
      },
      "source": [
        "# Compute accuracy for the single label model\n",
        "model = fasttext.load_model(f'{directory}/single_label_models/single_label_model_epoch_lr_ngrams.bin')\n",
        "\n",
        "train_file_name = f'{directory}/test_single_label.txt'\n",
        "text_file = open(train_file_name, 'r')\n",
        "song_lyrics = text_file.read()\n",
        "song_lyrics = song_lyrics.splitlines()\n",
        "\n",
        "total_correct = 0\n",
        "total = 0\n",
        "\n",
        "for song in song_lyrics:\n",
        "\n",
        "  total += 1\n",
        "\n",
        "  matches = re.findall('__label__([-&a-zA-Z0-9]+)', song)\n",
        "  \n",
        "  song_formatted = re.sub(r'__label__([-&a-zA-Z0-9]+)', '', song)\n",
        "  song_formatted = re.sub('\\\\s+', ' ', song_formatted)\n",
        "\n",
        "  predicted_genres = model.predict(song_formatted, k=1)\n",
        "\n",
        "  if matches:\n",
        "    if matches[0] == predicted_genres[0][0].replace('__label__', ''):\n",
        "      total_correct += 1\n",
        "  \n",
        "print(total_correct / total)"
      ],
      "execution_count": null,
      "outputs": []
    },
    {
      "cell_type": "code",
      "metadata": {
        "colab": {
          "base_uri": "https://localhost:8080/"
        },
        "id": "IYtLikhOxb1m",
        "outputId": "0dfda002-82ef-4d39-f37d-479520cf1abe"
      },
      "source": [
        "# Compute accuracy for the multiple label model\n",
        "model = fasttext.load_model(f'{directory}/multi_label_models/multi_label_model_epoch_lr_ngrams_hsmax.bin')\n",
        "\n",
        "train_file_name = f'{directory}/test_multi_label.txt'\n",
        "text_file = open(train_file_name, 'r')\n",
        "song_lyrics = text_file.read()\n",
        "song_lyrics = song_lyrics.splitlines()\n",
        "\n",
        "total_correct = 0\n",
        "total = 0\n",
        "\n",
        "for song in song_lyrics:\n",
        "\n",
        "  matches = re.findall('__label__([-&a-zA-Z0-9]+)', song)\n",
        "  \n",
        "  song_formatted = re.sub(r'__label__([-&a-zA-Z0-9]+)', '', song)\n",
        "  song_formatted = re.sub('\\\\s+', ' ', song_formatted)\n",
        "  predicted_genres = model.predict(song_formatted, k=4)\n",
        "\n",
        "  if matches:\n",
        "    total += len(matches)\n",
        "    for genre in predicted_genres[0]:\n",
        "      if genre.replace('__label__', '') in matches:\n",
        "        total_correct += 1\n",
        "\n",
        "print(total_correct / total)"
      ],
      "execution_count": null,
      "outputs": [
        {
          "output_type": "stream",
          "name": "stdout",
          "text": [
            "0.5453785464235331\n"
          ]
        }
      ]
    },
    {
      "cell_type": "code",
      "metadata": {
        "id": "vmWeA8xIuGfJ"
      },
      "source": [
        "# Getting the lyrics frequency for a genre\n",
        "\n",
        "genre = 'rock'\n",
        "\n",
        "train_file_name = f'{directory}/train_multi_label.txt'\n",
        "text_file = open(train_file_name, 'r')\n",
        "song_lyrics = text_file.read()\n",
        "song_lyrics = song_lyrics.splitlines()\n",
        "words_list = []\n",
        "\n",
        "for song in song_lyrics:\n",
        "\n",
        "  matches = re.findall('__label__([-&a-zA-Z0-9]+)', song)\n",
        "  \n",
        "  song_formatted = re.sub(r'__label__([-&a-zA-Z0-9]+)', '', song)\n",
        "  song_formatted = re.sub('\\\\s+', ' ', song_formatted)\n",
        "  \n",
        "  if genre in matches:\n",
        "    song_formatted = song_formatted.split()\n",
        "    \n",
        "    for word in song_formatted:\n",
        "      words_list.append(word)\n",
        "\n",
        "words_dict = dict(Counter(words_list))\n",
        "ordered_dict = {k: v for k, v in sorted(words_dict.items(), key=lambda item: item[1])}\n",
        "\n",
        "for word in ordered_dict:\n",
        "  \n",
        "  if word not in stopwords.words('english'):\n",
        "    print(f'{word}: {ordered_dict[word]}')\n",
        "\n"
      ],
      "execution_count": null,
      "outputs": []
    },
    {
      "cell_type": "code",
      "metadata": {
        "id": "M2P5lfOHiHqH"
      },
      "source": [
        "song_title = input('Enter a song title: ')\n",
        "artist = input('Enter the artist (optional): ')\n",
        "\n",
        "get_song_genres(song_title, artist)"
      ],
      "execution_count": null,
      "outputs": []
    },
    {
      "cell_type": "code",
      "metadata": {
        "id": "bh2gsTVkymCn",
        "colab": {
          "base_uri": "https://localhost:8080/"
        },
        "outputId": "c8e1f1b3-bda8-4ab5-8d6d-780f21eccc01"
      },
      "source": [
        "get_song_genres('big strong boss', 'swans')"
      ],
      "execution_count": null,
      "outputs": [
        {
          "output_type": "stream",
          "name": "stdout",
          "text": [
            "\n",
            "Song Title: Big Strong Boss\n",
            "Song Artist: Swans\n",
            "\n",
            "Model genres:\n",
            "\n",
            "Rock: 0.9990402460098267\n",
            "Post-punk: 0.9928885698318481\n",
            "Industrial: 0.9855064153671265\n",
            "Art-punk: 0.031153826043009758\n",
            "\n",
            "\n",
            "Actual genres:\n",
            "\n",
            "Post-punk\n",
            "Industrial\n",
            "Noise-rock\n",
            "No-wave\n",
            "\n",
            "====================================================================================================\n",
            "\n"
          ]
        }
      ]
    },
    {
      "cell_type": "code",
      "metadata": {
        "id": "0eIFC81xzSbc",
        "colab": {
          "base_uri": "https://localhost:8080/"
        },
        "outputId": "c1960da4-d8b0-430e-d947-230eaa4e9c18"
      },
      "source": [
        "get_song_genres('when you sleep', 'my bloody valentine')"
      ],
      "execution_count": null,
      "outputs": [
        {
          "output_type": "stream",
          "name": "stdout",
          "text": [
            "\n",
            "Song Title: When You Sleep\n",
            "Song Artist: ​my bloody valentine\n",
            "\n",
            "Model genres:\n",
            "\n",
            "Shoegaze: 0.9688661694526672\n",
            "Rock: 0.9304682612419128\n",
            "Ireland: 0.7981967926025391\n",
            "Ambient: 0.22816647589206696\n",
            "\n",
            "\n",
            "Actual genres:\n",
            "\n",
            "Noise-rock\n",
            "Alternative-rock\n",
            "Ireland\n",
            "Noise-pop\n",
            "Dream-pop\n",
            "Shoegaze\n",
            "\n",
            "====================================================================================================\n",
            "\n"
          ]
        }
      ]
    },
    {
      "cell_type": "code",
      "metadata": {
        "id": "UiKiuDgJzTkP"
      },
      "source": [
        "get_song_genres('sugar', 'brockhampton')"
      ],
      "execution_count": null,
      "outputs": []
    },
    {
      "cell_type": "code",
      "metadata": {
        "id": "ESf3CNIDOnuO"
      },
      "source": [
        "get_song_genres('xs', 'rina sawayama')"
      ],
      "execution_count": null,
      "outputs": []
    },
    {
      "cell_type": "code",
      "metadata": {
        "id": "jeQ8hsVgIzCT"
      },
      "source": [
        "get_song_genres('another one bites the dust', 'queen')"
      ],
      "execution_count": null,
      "outputs": []
    },
    {
      "cell_type": "code",
      "metadata": {
        "id": "LqfpqOqzQuRU"
      },
      "source": [
        "get_song_genres('nothing is safe', '.clipping')"
      ],
      "execution_count": null,
      "outputs": []
    },
    {
      "cell_type": "code",
      "metadata": {
        "id": "idY1Dm6FNkvR"
      },
      "source": [
        "get_song_genres('shine on you crazy diamond', 'pink floyd')"
      ],
      "execution_count": null,
      "outputs": []
    },
    {
      "cell_type": "code",
      "metadata": {
        "id": "JhCjOxxfI6XM",
        "colab": {
          "base_uri": "https://localhost:8080/"
        },
        "outputId": "7e2b4cb3-4569-46fd-c985-d1b6e1979a20"
      },
      "source": [
        "get_song_genres('pagtingin', 'ben&ben')"
      ],
      "execution_count": null,
      "outputs": [
        {
          "output_type": "stream",
          "name": "stdout",
          "text": [
            "\n",
            "Song Title: Pagtingin\n",
            "Song Artist: Ben&Ben\n",
            "\n",
            "Model genres:\n",
            "\n",
            "Pop: 0.9886782765388489\n",
            "Ballad: 0.8479777574539185\n",
            "Filipino: 0.523430347442627\n",
            "Rock: 0.4378334879875183\n",
            "\n",
            "\n",
            "Actual genres:\n",
            "\n",
            "Contemporary-folk\n",
            "Folk-rock\n",
            "Folk\n",
            "Alternative\n",
            "Alternative-pop\n",
            "Indie-pop\n",
            "Indie\n",
            "Filipino\n",
            "\n",
            "====================================================================================================\n",
            "\n"
          ]
        }
      ]
    },
    {
      "cell_type": "code",
      "metadata": {
        "id": "em_A8fb2JUKO",
        "colab": {
          "base_uri": "https://localhost:8080/"
        },
        "outputId": "ae4dbda2-15f3-4f44-8ed9-bbd05bf9c176"
      },
      "source": [
        "get_song_genres('say so', 'doja cat')"
      ],
      "execution_count": null,
      "outputs": [
        {
          "output_type": "stream",
          "name": "stdout",
          "text": [
            "\n",
            "Song Title: Say So\n",
            "Song Artist: Doja Cat\n",
            "\n",
            "Model genres:\n",
            "\n",
            "Pop: 0.9964163899421692\n",
            "Funk: 0.91965252161026\n",
            "Funk-pop: 0.6224693655967712\n",
            "R&b: 0.11921291798353195\n",
            "\n",
            "\n",
            "Actual genres:\n",
            "\n",
            "\n",
            "====================================================================================================\n",
            "\n"
          ]
        }
      ]
    },
    {
      "cell_type": "code",
      "metadata": {
        "id": "cQYGJznmMw8S",
        "colab": {
          "base_uri": "https://localhost:8080/"
        },
        "outputId": "a7f3b433-36c1-499d-9584-99985c59db7e"
      },
      "source": [
        "get_song_genres('teadrop', 'massive attack')"
      ],
      "execution_count": null,
      "outputs": [
        {
          "output_type": "stream",
          "name": "stdout",
          "text": [
            "\n",
            "Song Title: Teardrop\n",
            "Song Artist: Massive Attack\n",
            "\n",
            "Model genres:\n",
            "\n",
            "Rock: 0.9845854640007019\n",
            "Trip-hop: 0.8439050912857056\n",
            "Downtempo: 0.10088862478733063\n",
            "Idm: 0.08510905504226685\n",
            "\n",
            "\n",
            "Actual genres:\n",
            "\n",
            "Art-pop\n",
            "Dream-pop\n",
            "Trip-hop\n",
            "\n",
            "====================================================================================================\n",
            "\n"
          ]
        }
      ]
    },
    {
      "cell_type": "code",
      "metadata": {
        "id": "oKMAnoknJeKC"
      },
      "source": [
        "get_song_genres('leave the door open', 'silk sonic')"
      ],
      "execution_count": null,
      "outputs": []
    },
    {
      "cell_type": "code",
      "metadata": {
        "id": "IsdU9d82K9To",
        "colab": {
          "base_uri": "https://localhost:8080/"
        },
        "outputId": "165c4172-6a3d-4fb6-d06b-5795e245c77a"
      },
      "source": [
        "get_song_genres('dont start now', 'dua lipa')"
      ],
      "execution_count": null,
      "outputs": [
        {
          "output_type": "stream",
          "name": "stdout",
          "text": [
            "\n",
            "Song Title: Don’t Start Now\n",
            "Song Artist: Dua Lipa\n",
            "\n",
            "Model genres:\n",
            "\n",
            "Dance: 0.9990989565849304\n",
            "Dance-pop: 0.9928885698318481\n",
            "Uk: 0.9867871999740601\n",
            "Pop: 0.9820237755775452\n",
            "\n",
            "\n",
            "Actual genres:\n",
            "\n",
            "Nu-disco\n",
            "Edm\n",
            "Electro\n",
            "House\n",
            "Dance\n",
            "Eurodance\n",
            "Dance-pop\n",
            "Uk\n",
            "\n",
            "====================================================================================================\n",
            "\n"
          ]
        }
      ]
    },
    {
      "cell_type": "code",
      "metadata": {
        "id": "yX4Utg2kKF7s",
        "colab": {
          "base_uri": "https://localhost:8080/"
        },
        "outputId": "b6dd04e0-8984-45e6-b87e-b6cf82965eb8"
      },
      "source": [
        "get_song_genres('pictures of you', 'the cure')"
      ],
      "execution_count": null,
      "outputs": [
        {
          "output_type": "stream",
          "name": "stdout",
          "text": [
            "\n",
            "Song Title: Pictures of You\n",
            "Song Artist: The Cure\n",
            "\n",
            "Model genres:\n",
            "\n",
            "Rock: 0.9697954058647156\n",
            "Post-punk: 0.7490972280502319\n",
            "Electronic: 0.027595279738307\n",
            "Pop-punk: 0.02162533439695835\n",
            "\n",
            "\n",
            "Actual genres:\n",
            "\n",
            "Dark-wave\n",
            "Gothic-rock\n",
            "Post-punk\n",
            "Alternative-rock\n",
            "Dream-pop\n",
            "\n",
            "====================================================================================================\n",
            "\n"
          ]
        }
      ]
    },
    {
      "cell_type": "code",
      "metadata": {
        "id": "OHXhAAF8KXU6"
      },
      "source": [
        "get_song_genres('look at the sky', 'porter robinson')"
      ],
      "execution_count": null,
      "outputs": []
    },
    {
      "cell_type": "code",
      "metadata": {
        "id": "6Cu0U10INTTW",
        "colab": {
          "base_uri": "https://localhost:8080/"
        },
        "outputId": "db58ed57-4c5a-4051-fd33-a6d6978daa0a"
      },
      "source": [
        "get_song_genres('reborn', 'kids see ghosts')"
      ],
      "execution_count": null,
      "outputs": [
        {
          "output_type": "stream",
          "name": "stdout",
          "text": [
            "\n",
            "Song Title: Reborn\n",
            "Song Artist: KIDS SEE GHOSTS\n",
            "\n",
            "Model genres:\n",
            "\n",
            "Neo-psychedelia: 0.998142421245575\n",
            "Pop: 0.9863731861114502\n",
            "Rap: 0.8962613940238953\n",
            "Trip-hop: 0.880807101726532\n",
            "\n",
            "\n",
            "Actual genres:\n",
            "\n",
            "Neo-psychedelia\n",
            "Cloud-rap\n",
            "Art-pop\n",
            "Trip-hop\n",
            "Alternative-r-b\n",
            "Conscious-hip-hop\n",
            "\n",
            "====================================================================================================\n",
            "\n"
          ]
        }
      ]
    },
    {
      "cell_type": "code",
      "metadata": {
        "id": "rAw6GDUAMBmw",
        "colab": {
          "base_uri": "https://localhost:8080/"
        },
        "outputId": "d2b5ec08-cf69-4112-894c-fece58e78dba"
      },
      "source": [
        "get_song_genres('fever aye aye', 'death grips')"
      ],
      "execution_count": null,
      "outputs": [
        {
          "output_type": "stream",
          "name": "stdout",
          "text": [
            "\n",
            "Song Title: The Fever (Aye Aye)\n",
            "Song Artist: Death Grips\n",
            "\n",
            "Model genres:\n",
            "\n",
            "Rap: 0.9802908897399902\n",
            "Trap: 0.5078218579292297\n",
            "Experimental: 0.1520422399044037\n",
            "Hip-hop: 0.08036746829748154\n",
            "\n",
            "\n",
            "Actual genres:\n",
            "\n",
            "Synth-punk\n",
            "Abstract-rap\n",
            "Hardcore-hip-hop\n",
            "Industrial-hip-hop\n",
            "\n",
            "====================================================================================================\n",
            "\n"
          ]
        }
      ]
    },
    {
      "cell_type": "code",
      "metadata": {
        "id": "U419fRvIKujv",
        "colab": {
          "base_uri": "https://localhost:8080/"
        },
        "outputId": "63f5e3a2-51fd-484b-f393-d0a6009eff38"
      },
      "source": [
        "# New songs\n",
        "get_song_genres('great mass of color', 'deafhaven')"
      ],
      "execution_count": null,
      "outputs": [
        {
          "output_type": "stream",
          "name": "stdout",
          "text": [
            "\n",
            "Song Title: Great Mass of Color\n",
            "Song Artist: Deafheaven\n",
            "\n",
            "Model genres:\n",
            "\n",
            "Rock: 0.9124462008476257\n",
            "Shoegaze: 0.9073222279548645\n",
            "Pop: 0.10088862478733063\n",
            "Psychedelic: 0.020342351868748665\n",
            "\n",
            "\n",
            "Actual genres:\n",
            "\n",
            "Indie-rock\n",
            "Alternative-rock\n",
            "Dream-pop\n",
            "Shoegaze\n",
            "\n",
            "====================================================================================================\n",
            "\n"
          ]
        }
      ]
    },
    {
      "cell_type": "code",
      "metadata": {
        "id": "JKP-In4CJpKj"
      },
      "source": [
        "get_song_genres('solar power', 'lorde')"
      ],
      "execution_count": null,
      "outputs": []
    },
    {
      "cell_type": "code",
      "metadata": {
        "id": "GZB_laxhLdVj",
        "colab": {
          "base_uri": "https://localhost:8080/"
        },
        "outputId": "579d9e21-902b-4226-965a-79b56021e5bb"
      },
      "source": [
        "get_song_genres('violent delights', 'chvrches')"
      ],
      "execution_count": null,
      "outputs": [
        {
          "output_type": "stream",
          "name": "stdout",
          "text": [
            "\n",
            "Song Title: Violent Delights\n",
            "Song Artist: CHVRCHES\n",
            "\n",
            "Model genres:\n",
            "\n",
            "Rock: 1.0000100135803223\n",
            "Emo: 0.9890230894088745\n",
            "Post-hardcore: 0.91965252161026\n",
            "Pop-punk: 0.8933194279670715\n",
            "\n",
            "\n",
            "Actual genres:\n",
            "\n",
            "Indie-pop\n",
            "Alternative-pop\n",
            "Alternative\n",
            "\n",
            "====================================================================================================\n",
            "\n"
          ]
        }
      ]
    },
    {
      "cell_type": "code",
      "metadata": {
        "id": "Py-IrUHxMirP",
        "colab": {
          "base_uri": "https://localhost:8080/"
        },
        "outputId": "9ce1ff3b-66f6-4d20-faec-3f0187f5e021"
      },
      "source": [
        "get_song_genres('the game', 'denzel curry')"
      ],
      "execution_count": null,
      "outputs": [
        {
          "output_type": "stream",
          "name": "stdout",
          "text": [
            "\n",
            "Song Title: The Game\n",
            "Song Artist: Denzel Curry\n",
            "\n",
            "Model genres:\n",
            "\n",
            "Rap: 1.0000100135803223\n",
            "Hip-hop: 0.9525841474533081\n",
            "Trap: 0.7931159734725952\n",
            "Canada: 0.585111141204834\n",
            "\n",
            "\n",
            "Actual genres:\n",
            "\n",
            "Conscious-hip-hop\n",
            "Boom-bap\n",
            "Hardcore-hip-hop\n",
            "East-coast\n",
            "\n",
            "====================================================================================================\n",
            "\n"
          ]
        }
      ]
    }
  ]
}